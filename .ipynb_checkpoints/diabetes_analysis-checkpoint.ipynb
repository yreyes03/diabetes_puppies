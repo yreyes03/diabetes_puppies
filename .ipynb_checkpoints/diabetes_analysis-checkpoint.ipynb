{
 "cells": [
  {
   "cell_type": "code",
   "execution_count": 1,
   "id": "941956f4-e02f-4d21-9485-c9b6d5d6c201",
   "metadata": {
    "tags": []
   },
   "outputs": [],
   "source": [
    "import pandas as pd\n",
    "import seaborn as sns\n",
    "import numpy as np\n",
    "import matplotlib.pyplot as plt\n",
    "from sklearn.decomposition import PCA\n",
    "\n",
    "dat = pd.read_csv('data/health care diabetes.csv')"
   ]
  },
  {
   "cell_type": "code",
   "execution_count": 2,
   "id": "eb059b65-11e5-4396-b4a8-0cb2b6b92ad8",
   "metadata": {
    "tags": []
   },
   "outputs": [],
   "source": [
    "dat = dat[dat['Glucose'] != 0]\n",
    "dat = dat[dat['BloodPressure'] != 0]\n",
    "dat = dat[dat['SkinThickness'] != 0]\n",
    "dat = dat[dat['Insulin'] != 0]\n",
    "dat = dat[dat['BMI'] != 0]\n",
    "dat = dat[dat['DiabetesPedigreeFunction'] != 0]\n",
    "dat = dat[dat['Age'] != 0]"
   ]
  },
  {
   "cell_type": "markdown",
   "id": "39d3022a-b84b-4489-9062-51651b6ce06b",
   "metadata": {},
   "source": [
    "---"
   ]
  },
  {
   "cell_type": "markdown",
   "id": "b454fcf2-6c16-4b94-9b5f-5ec949a01aa4",
   "metadata": {},
   "source": [
    "## Correlation:"
   ]
  },
  {
   "cell_type": "markdown",
   "id": "de4613ae-9846-41a0-a8dd-5cee5ce1fc81",
   "metadata": {},
   "source": [
    "Ignore the fact that I created a copy of our data in the PCA analysis. I think it would be easier to use the 'dat' dataset that Daniella created to do the correlation! - Phoebe "
   ]
  },
  {
   "cell_type": "code",
   "execution_count": 3,
   "id": "8dfb267d-2e12-44a1-be20-374217032509",
   "metadata": {
    "tags": []
   },
   "outputs": [
    {
     "name": "stdout",
     "output_type": "stream",
     "text": [
      "Feature: Pregnancies\n",
      "Mean Squared Error: 0.22\n",
      "R^2 Score: 0.04\n",
      "\n",
      "Feature: Glucose\n",
      "Mean Squared Error: 0.18\n",
      "R^2 Score: 0.20\n",
      "\n",
      "Feature: BloodPressure\n",
      "Mean Squared Error: 0.22\n",
      "R^2 Score: 0.02\n",
      "\n",
      "Feature: SkinThickness\n",
      "Mean Squared Error: 0.21\n",
      "R^2 Score: 0.08\n",
      "\n",
      "Feature: Insulin\n",
      "Mean Squared Error: 0.23\n",
      "R^2 Score: -0.04\n",
      "\n",
      "Feature: BMI\n",
      "Mean Squared Error: 0.20\n",
      "R^2 Score: 0.09\n",
      "\n",
      "Feature: DiabetesPedigreeFunction\n",
      "Mean Squared Error: 0.21\n",
      "R^2 Score: 0.07\n",
      "\n",
      "Feature: Age\n",
      "Mean Squared Error: 0.19\n",
      "R^2 Score: 0.15\n",
      "\n"
     ]
    }
   ],
   "source": [
    "# correlation\n",
    "from sklearn.model_selection import train_test_split\n",
    "from sklearn.linear_model import LinearRegression\n",
    "from sklearn.metrics import mean_squared_error, r2_score\n",
    "\n",
    "\n",
    "for feature_name in dat.columns:\n",
    "    if feature_name == 'Outcome':\n",
    "        continue  \n",
    "    \n",
    "    X = dat[[feature_name]]  \n",
    "    y = dat['Outcome'] \n",
    "\n",
    "    X_train, X_test, y_train, y_test = train_test_split(X, y, test_size=0.2, random_state=42)\n",
    "\n",
    "    model = LinearRegression()\n",
    "    model.fit(X_train, y_train)\n",
    "\n",
    "    y_pred = model.predict(X_test)\n",
    "\n",
    "    mse = mean_squared_error(y_test, y_pred)\n",
    "    r2 = r2_score(y_test, y_pred)\n",
    "\n",
    "    print(f\"Feature: {feature_name}\")\n",
    "    print(f\"Mean Squared Error: {mse:.2f}\")\n",
    "    print(f\"R^2 Score: {r2:.2f}\")\n",
    "    print()"
   ]
  },
  {
   "cell_type": "markdown",
   "id": "62c656fb-94a7-4c28-bd82-18696b310bd7",
   "metadata": {},
   "source": [
    "Seems to me like age and gluecose are better predictors? "
   ]
  },
  {
   "cell_type": "markdown",
   "id": "5fada480-af4f-40c6-a4a4-11770a00a297",
   "metadata": {},
   "source": [
    "---\n"
   ]
  },
  {
   "cell_type": "markdown",
   "id": "1cc7eefc-8ff4-4b9e-a768-0636a1154021",
   "metadata": {
    "tags": []
   },
   "source": [
    "## PCA Analysis"
   ]
  },
  {
   "cell_type": "markdown",
   "id": "895f4401-6a84-427d-9a10-200585af6e53",
   "metadata": {},
   "source": [
    "I made a copy of the data to change the Outcome from '0' and '1' to 'No' and 'Yes' because that's just easier to plot. - Phoebe"
   ]
  },
  {
   "cell_type": "code",
   "execution_count": 4,
   "id": "9428b836-7d21-47ce-87e3-77af5b2f6088",
   "metadata": {
    "tags": []
   },
   "outputs": [],
   "source": [
    "dat_new = dat.copy()"
   ]
  },
  {
   "cell_type": "code",
   "execution_count": 5,
   "id": "9113ec10-7309-42c1-87d1-d0aa57c11ba1",
   "metadata": {
    "tags": []
   },
   "outputs": [
    {
     "data": {
      "text/html": [
       "<div>\n",
       "<style scoped>\n",
       "    .dataframe tbody tr th:only-of-type {\n",
       "        vertical-align: middle;\n",
       "    }\n",
       "\n",
       "    .dataframe tbody tr th {\n",
       "        vertical-align: top;\n",
       "    }\n",
       "\n",
       "    .dataframe thead th {\n",
       "        text-align: right;\n",
       "    }\n",
       "</style>\n",
       "<table border=\"1\" class=\"dataframe\">\n",
       "  <thead>\n",
       "    <tr style=\"text-align: right;\">\n",
       "      <th></th>\n",
       "      <th>Pregnancies</th>\n",
       "      <th>Glucose</th>\n",
       "      <th>BloodPressure</th>\n",
       "      <th>SkinThickness</th>\n",
       "      <th>Insulin</th>\n",
       "      <th>BMI</th>\n",
       "      <th>DiabetesPedigreeFunction</th>\n",
       "      <th>Age</th>\n",
       "      <th>Outcome</th>\n",
       "    </tr>\n",
       "  </thead>\n",
       "  <tbody>\n",
       "    <tr>\n",
       "      <th>3</th>\n",
       "      <td>1</td>\n",
       "      <td>89</td>\n",
       "      <td>66</td>\n",
       "      <td>23</td>\n",
       "      <td>94</td>\n",
       "      <td>28.1</td>\n",
       "      <td>0.167</td>\n",
       "      <td>21</td>\n",
       "      <td>No</td>\n",
       "    </tr>\n",
       "    <tr>\n",
       "      <th>4</th>\n",
       "      <td>0</td>\n",
       "      <td>137</td>\n",
       "      <td>40</td>\n",
       "      <td>35</td>\n",
       "      <td>168</td>\n",
       "      <td>43.1</td>\n",
       "      <td>2.288</td>\n",
       "      <td>33</td>\n",
       "      <td>Yes</td>\n",
       "    </tr>\n",
       "    <tr>\n",
       "      <th>6</th>\n",
       "      <td>3</td>\n",
       "      <td>78</td>\n",
       "      <td>50</td>\n",
       "      <td>32</td>\n",
       "      <td>88</td>\n",
       "      <td>31.0</td>\n",
       "      <td>0.248</td>\n",
       "      <td>26</td>\n",
       "      <td>Yes</td>\n",
       "    </tr>\n",
       "    <tr>\n",
       "      <th>8</th>\n",
       "      <td>2</td>\n",
       "      <td>197</td>\n",
       "      <td>70</td>\n",
       "      <td>45</td>\n",
       "      <td>543</td>\n",
       "      <td>30.5</td>\n",
       "      <td>0.158</td>\n",
       "      <td>53</td>\n",
       "      <td>Yes</td>\n",
       "    </tr>\n",
       "    <tr>\n",
       "      <th>13</th>\n",
       "      <td>1</td>\n",
       "      <td>189</td>\n",
       "      <td>60</td>\n",
       "      <td>23</td>\n",
       "      <td>846</td>\n",
       "      <td>30.1</td>\n",
       "      <td>0.398</td>\n",
       "      <td>59</td>\n",
       "      <td>Yes</td>\n",
       "    </tr>\n",
       "    <tr>\n",
       "      <th>...</th>\n",
       "      <td>...</td>\n",
       "      <td>...</td>\n",
       "      <td>...</td>\n",
       "      <td>...</td>\n",
       "      <td>...</td>\n",
       "      <td>...</td>\n",
       "      <td>...</td>\n",
       "      <td>...</td>\n",
       "      <td>...</td>\n",
       "    </tr>\n",
       "    <tr>\n",
       "      <th>753</th>\n",
       "      <td>0</td>\n",
       "      <td>181</td>\n",
       "      <td>88</td>\n",
       "      <td>44</td>\n",
       "      <td>510</td>\n",
       "      <td>43.3</td>\n",
       "      <td>0.222</td>\n",
       "      <td>26</td>\n",
       "      <td>Yes</td>\n",
       "    </tr>\n",
       "    <tr>\n",
       "      <th>755</th>\n",
       "      <td>1</td>\n",
       "      <td>128</td>\n",
       "      <td>88</td>\n",
       "      <td>39</td>\n",
       "      <td>110</td>\n",
       "      <td>36.5</td>\n",
       "      <td>1.057</td>\n",
       "      <td>37</td>\n",
       "      <td>Yes</td>\n",
       "    </tr>\n",
       "    <tr>\n",
       "      <th>760</th>\n",
       "      <td>2</td>\n",
       "      <td>88</td>\n",
       "      <td>58</td>\n",
       "      <td>26</td>\n",
       "      <td>16</td>\n",
       "      <td>28.4</td>\n",
       "      <td>0.766</td>\n",
       "      <td>22</td>\n",
       "      <td>No</td>\n",
       "    </tr>\n",
       "    <tr>\n",
       "      <th>763</th>\n",
       "      <td>10</td>\n",
       "      <td>101</td>\n",
       "      <td>76</td>\n",
       "      <td>48</td>\n",
       "      <td>180</td>\n",
       "      <td>32.9</td>\n",
       "      <td>0.171</td>\n",
       "      <td>63</td>\n",
       "      <td>No</td>\n",
       "    </tr>\n",
       "    <tr>\n",
       "      <th>765</th>\n",
       "      <td>5</td>\n",
       "      <td>121</td>\n",
       "      <td>72</td>\n",
       "      <td>23</td>\n",
       "      <td>112</td>\n",
       "      <td>26.2</td>\n",
       "      <td>0.245</td>\n",
       "      <td>30</td>\n",
       "      <td>No</td>\n",
       "    </tr>\n",
       "  </tbody>\n",
       "</table>\n",
       "<p>392 rows × 9 columns</p>\n",
       "</div>"
      ],
      "text/plain": [
       "     Pregnancies  Glucose  BloodPressure  SkinThickness  Insulin   BMI  \\\n",
       "3              1       89             66             23       94  28.1   \n",
       "4              0      137             40             35      168  43.1   \n",
       "6              3       78             50             32       88  31.0   \n",
       "8              2      197             70             45      543  30.5   \n",
       "13             1      189             60             23      846  30.1   \n",
       "..           ...      ...            ...            ...      ...   ...   \n",
       "753            0      181             88             44      510  43.3   \n",
       "755            1      128             88             39      110  36.5   \n",
       "760            2       88             58             26       16  28.4   \n",
       "763           10      101             76             48      180  32.9   \n",
       "765            5      121             72             23      112  26.2   \n",
       "\n",
       "     DiabetesPedigreeFunction  Age Outcome  \n",
       "3                       0.167   21      No  \n",
       "4                       2.288   33     Yes  \n",
       "6                       0.248   26     Yes  \n",
       "8                       0.158   53     Yes  \n",
       "13                      0.398   59     Yes  \n",
       "..                        ...  ...     ...  \n",
       "753                     0.222   26     Yes  \n",
       "755                     1.057   37     Yes  \n",
       "760                     0.766   22      No  \n",
       "763                     0.171   63      No  \n",
       "765                     0.245   30      No  \n",
       "\n",
       "[392 rows x 9 columns]"
      ]
     },
     "execution_count": 5,
     "metadata": {},
     "output_type": "execute_result"
    }
   ],
   "source": [
    "dat_new['Outcome'] = dat_new['Outcome'].replace({0: 'No', 1: 'Yes'})\n",
    "dat_new"
   ]
  },
  {
   "cell_type": "code",
   "execution_count": 6,
   "id": "184349a7-349a-43e2-9880-ab35ea83d6cf",
   "metadata": {
    "tags": []
   },
   "outputs": [],
   "source": [
    "# setting features and target\n",
    "X = dat.loc[:, 'Pregnancies':'Age']\n",
    "y = dat['Outcome']"
   ]
  },
  {
   "cell_type": "code",
   "execution_count": 7,
   "id": "176c5787-c9b5-49de-a5a3-293aec1cd360",
   "metadata": {
    "tags": []
   },
   "outputs": [],
   "source": [
    "pca = PCA(n_components = 2)"
   ]
  },
  {
   "cell_type": "code",
   "execution_count": 8,
   "id": "b27dff02-4f4b-476e-b082-b7eb42d28f7e",
   "metadata": {
    "tags": []
   },
   "outputs": [],
   "source": [
    "X_pca = pca.fit_transform(X)"
   ]
  },
  {
   "cell_type": "code",
   "execution_count": 9,
   "id": "5043c2c6-352f-4f7f-b0be-cdfc57087db5",
   "metadata": {
    "tags": []
   },
   "outputs": [
    {
     "data": {
      "image/png": "[encoded data removed]",
      "text/plain": [
       "<Figure size 640x480 with 1 Axes>"
      ]
     },
     "metadata": {},
     "output_type": "display_data"
    }
   ],
   "source": [
    "# Scatter plot of the first two principal components\n",
    "# with color coding for Diabetic outcome\n",
    "\n",
    "colors = ['red', 'blue']\n",
    "diabetes = dat_new['Outcome'].unique()\n",
    "\n",
    "for i, color, outcome_type in zip(range(2), colors, diabetes):\n",
    "    plt.scatter(X_pca[y == i, 0], X_pca[y == i, 1],\n",
    "                color=color, label=outcome_type)\n",
    "    \n",
    "plt.xlabel(\"First Principal Component\")\n",
    "plt.ylabel(\"Second Principal Component\")\n",
    "plt.legend(loc=\"best\")\n",
    "plt.title(\"PCA on Diabetes dataset: First two principal components\")\n",
    "plt.show()"
   ]
  },
  {
   "cell_type": "code",
   "execution_count": 10,
   "id": "2ee3cc9d-8b5c-4e15-bf63-f228d6874858",
   "metadata": {
    "tags": []
   },
   "outputs": [
    {
     "name": "stdout",
     "output_type": "stream",
     "text": [
      "Pregnancies                 0.256566\n",
      "Glucose                     0.515703\n",
      "BloodPressure               0.192673\n",
      "SkinThickness               0.255936\n",
      "Insulin                     0.301429\n",
      "BMI                         0.270118\n",
      "DiabetesPedigreeFunction    0.209330\n",
      "Age                         0.350804\n",
      "Name: Outcome, dtype: float64\n"
     ]
    }
   ],
   "source": [
    "correlation_with_target = dat.corr()['Outcome'].drop('Outcome')\n",
    "\n",
    "# Print the correlation values\n",
    "print(correlation_with_target)"
   ]
  }
 ],
 "metadata": {
  "kernelspec": {
   "display_name": "Python 3 (ipykernel)",
   "language": "python",
   "name": "python3"
  },
  "language_info": {
   "codemirror_mode": {
    "name": "ipython",
    "version": 3
   },
   "file_extension": ".py",
   "mimetype": "text/x-python",
   "name": "python",
   "nbconvert_exporter": "python",
   "pygments_lexer": "ipython3",
   "version": "3.11.5"
  }
 },
 "nbformat": 4,
 "nbformat_minor": 5
}
