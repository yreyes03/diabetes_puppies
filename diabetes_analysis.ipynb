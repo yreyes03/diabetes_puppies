{
 "cells": [
  {
   "cell_type": "code",
   "execution_count": 1,
   "id": "941956f4-e02f-4d21-9485-c9b6d5d6c201",
   "metadata": {
    "tags": []
   },
   "outputs": [],
   "source": [
    "import pandas as pd\n",
    "\n",
    "dat = pd.read_csv('data/health care diabetes.csv')"
   ]
  },
  {
   "cell_type": "code",
   "execution_count": 2,
   "id": "eb059b65-11e5-4396-b4a8-0cb2b6b92ad8",
   "metadata": {
    "tags": []
   },
   "outputs": [],
   "source": [
    "dat = dat[dat['Glucose'] != 0]\n",
    "dat = dat[dat['BloodPressure'] != 0]\n",
    "dat = dat[dat['SkinThickness'] != 0]\n",
    "dat = dat[dat['Insulin'] != 0]\n",
    "dat = dat[dat['BMI'] != 0]\n",
    "dat = dat[dat['DiabetesPedigreeFunction'] != 0]\n",
    "dat = dat[dat['Age'] != 0]"
   ]
  }
 ],
 "metadata": {
  "kernelspec": {
   "display_name": "Python 3 (ipykernel)",
   "language": "python",
   "name": "python3"
  },
  "language_info": {
   "codemirror_mode": {
    "name": "ipython",
    "version": 3
   },
   "file_extension": ".py",
   "mimetype": "text/x-python",
   "name": "python",
   "nbconvert_exporter": "python",
   "pygments_lexer": "ipython3",
   "version": "3.11.4"
  }
 },
 "nbformat": 4,
 "nbformat_minor": 5
}
